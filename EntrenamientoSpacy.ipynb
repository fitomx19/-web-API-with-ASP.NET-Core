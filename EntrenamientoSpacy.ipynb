{
  "nbformat": 4,
  "nbformat_minor": 0,
  "metadata": {
    "colab": {
      "provenance": [],
      "collapsed_sections": [],
      "include_colab_link": true
    },
    "kernelspec": {
      "name": "python3",
      "display_name": "Python 3"
    },
    "language_info": {
      "name": "python"
    }
  },
  "cells": [
    {
      "cell_type": "markdown",
      "metadata": {
        "id": "view-in-github",
        "colab_type": "text"
      },
      "source": [
        "<a href=\"https://colab.research.google.com/github/fitomx19/-web-API-with-ASP.NET-Core/blob/master/EntrenamientoSpacy.ipynb\" target=\"_parent\"><img src=\"https://colab.research.google.com/assets/colab-badge.svg\" alt=\"Open In Colab\"/></a>"
      ]
    },
    {
      "cell_type": "markdown",
      "source": [
        "## Entrenamiento Spacy -> Named Entity Recognition"
      ],
      "metadata": {
        "id": "T7LM7rzYwRuZ"
      }
    },
    {
      "cell_type": "code",
      "source": [
        "from google.colab import drive\n",
        "drive.mount('/content/drive')"
      ],
      "metadata": {
        "id": "eHwBU6AABJSU",
        "outputId": "fbdc6c93-3441-4a9f-d39a-2f14ce87d479",
        "colab": {
          "base_uri": "https://localhost:8080/"
        }
      },
      "execution_count": 1,
      "outputs": [
        {
          "output_type": "stream",
          "name": "stdout",
          "text": [
            "Drive already mounted at /content/drive; to attempt to forcibly remount, call drive.mount(\"/content/drive\", force_remount=True).\n"
          ]
        }
      ]
    },
    {
      "cell_type": "markdown",
      "source": [
        "A continuacion se muestran los paquetes que se van a utilizar para que funcione el sistema"
      ],
      "metadata": {
        "id": "LbyGkm08vzQ5"
      }
    },
    {
      "cell_type": "code",
      "execution_count": 2,
      "metadata": {
        "id": "jvEmrPGsvRVF"
      },
      "outputs": [],
      "source": [
        "import pandas as pd\n",
        "import os\n",
        "from tqdm import tqdm\n",
        "from spacy.tokens import DocBin\n",
        "import spacy\n",
        "from utilidades import etiquetador_personas,completar_tabla\n",
        "nlp = spacy.load(\"en_core_web_sm\")"
      ]
    },
    {
      "cell_type": "markdown",
      "source": [
        "De un texto que esta probado que no funciona en su totalidad -> vamos a buscar todas las entidades que sean nombres"
      ],
      "metadata": {
        "id": "sjou5Bl8vsNW"
      }
    },
    {
      "cell_type": "code",
      "source": [
        "prueba = \"Se viralizó en redes sociales, el caso de una víctima ADOLFO HUERTA donde recibio una estafa dentro de un restaurante de la de la Ciudad de México. De acuerdo con la denuncia en redes sociales, el restaurante Terraza, ubicado en el Zócalo de la Ciudad de México cobró excesivamente a una usuaria que tuvo que pagar más de 4 mil pesos mexicanos por sólo comer tacos, guacamole y unas cervezas.\"\n"
      ],
      "metadata": {
        "id": "hnIasnJkvcyM"
      },
      "execution_count": 3,
      "outputs": []
    },
    {
      "cell_type": "markdown",
      "source": [
        "(Para modificarlo unicamente cambie el texto en la variable llamada **prueba**)\n"
      ],
      "metadata": {
        "id": "VftwieYGwI_7"
      }
    },
    {
      "cell_type": "code",
      "source": [
        "document = nlp(prueba)\n",
        "colors = {'Personas': \"#85C1E9\"}\n",
        "options = {\"ents\": ['PERSON'], \"colors\": colors}\n",
        "spacy.displacy.render(document, style=\"ent\", jupyter=True, options=options) # display in Jupyter"
      ],
      "metadata": {
        "colab": {
          "base_uri": "https://localhost:8080/",
          "height": 122
        },
        "id": "VJnM1vQnwHAN",
        "outputId": "eea17c73-9edd-4bb2-8304-8b198aaa644a"
      },
      "execution_count": 4,
      "outputs": [
        {
          "output_type": "display_data",
          "data": {
            "text/plain": [
              "<IPython.core.display.HTML object>"
            ],
            "text/html": [
              "<span class=\"tex2jax_ignore\"><div class=\"entities\" style=\"line-height: 2.5; direction: ltr\">\n",
              "<mark class=\"entity\" style=\"background: #aa9cfc; padding: 0.45em 0.6em; margin: 0 0.25em; line-height: 1; border-radius: 0.35em;\">\n",
              "    Se\n",
              "    <span style=\"font-size: 0.8em; font-weight: bold; line-height: 1; border-radius: 0.35em; vertical-align: middle; margin-left: 0.5rem\">PERSON</span>\n",
              "</mark>\n",
              " viralizó en redes sociales, el caso de una víctima ADOLFO HUERTA donde recibio una estafa dentro de un restaurante de la de la Ciudad de México. \n",
              "<mark class=\"entity\" style=\"background: #aa9cfc; padding: 0.45em 0.6em; margin: 0 0.25em; line-height: 1; border-radius: 0.35em;\">\n",
              "    De acuerdo\n",
              "    <span style=\"font-size: 0.8em; font-weight: bold; line-height: 1; border-radius: 0.35em; vertical-align: middle; margin-left: 0.5rem\">PERSON</span>\n",
              "</mark>\n",
              " con la \n",
              "<mark class=\"entity\" style=\"background: #aa9cfc; padding: 0.45em 0.6em; margin: 0 0.25em; line-height: 1; border-radius: 0.35em;\">\n",
              "    denuncia\n",
              "    <span style=\"font-size: 0.8em; font-weight: bold; line-height: 1; border-radius: 0.35em; vertical-align: middle; margin-left: 0.5rem\">PERSON</span>\n",
              "</mark>\n",
              " en redes sociales, el restaurante Terraza, ubicado en el Zócalo de la Ciudad de México cobró excesivamente a una usuaria que tuvo que pagar más de 4 mil pesos mexicanos por sólo comer tacos, guacamole y unas cervezas.</div></span>"
            ]
          },
          "metadata": {}
        }
      ]
    },
    {
      "cell_type": "markdown",
      "source": [
        "Como podemos ver se observan coloreadas de morado las entidades que hace referencia a persona, pero esto no es correcto, entonces enseñaremos a la maquina a entender cuales son las palabras que si son **PERSONAS**"
      ],
      "metadata": {
        "id": "G5Qh3DBrwckg"
      }
    },
    {
      "cell_type": "code",
      "source": [
        "personas = [\"ADOLFO HUERTA\"]"
      ],
      "metadata": {
        "id": "OK6AKsofwqD3"
      },
      "execution_count": 5,
      "outputs": []
    },
    {
      "cell_type": "code",
      "source": [
        "valores = completar_tabla(personas,prueba)"
      ],
      "metadata": {
        "colab": {
          "base_uri": "https://localhost:8080/"
        },
        "id": "zvxDh8bhwxuW",
        "outputId": "b8c34b3d-cf38-4b57-ee09-e9883966ce74"
      },
      "execution_count": 6,
      "outputs": [
        {
          "output_type": "stream",
          "name": "stdout",
          "text": [
            "ADOLFO HUERTA\n"
          ]
        }
      ]
    },
    {
      "cell_type": "code",
      "source": [
        "def entrenamiento(valores,prueba):\n",
        "  db = DocBin() # create a DocBin object\n",
        "\n",
        "  #for x in tqdm(range(len(valores))): # data in previous format\n",
        "  nlp = spacy.load(\"en_core_web_sm\")    \n",
        "  doc = nlp.make_doc(prueba) # create doc object from text\n",
        "  ents = []\n",
        "  for start, end, label in (valores): # add character indexes\n",
        "      #print(start)\n",
        "      #print(end)\n",
        "      #print(label)\n",
        "      span = doc.char_span(start, end, label=label, alignment_mode=\"contract\")\n",
        "      if span is None:\n",
        "          print(\"Skipping entity\")\n",
        "      else:\n",
        "          ents.append(span)\n",
        "          #print(span)\n",
        "      doc.ents = ents # label the text with the ents\n",
        "      print(ents)\n",
        "      db.add(doc)\n",
        "\n",
        "  db.to_disk(\"./train.spacy\") # save the docbin object"
      ],
      "metadata": {
        "id": "9xHlUdjqymvR"
      },
      "execution_count": 7,
      "outputs": []
    },
    {
      "cell_type": "markdown",
      "source": [
        "En esta seccion se creara el archivo de preentrenamiento con las entidades que seleccionamos"
      ],
      "metadata": {
        "id": "e5g7NrhJ0rkO"
      }
    },
    {
      "cell_type": "code",
      "source": [
        "entrenamiento(valores,prueba)"
      ],
      "metadata": {
        "colab": {
          "base_uri": "https://localhost:8080/"
        },
        "id": "nh7XfaK2yCt8",
        "outputId": "50b7eaa4-9aab-4f8d-ca63-99f759da5cbc"
      },
      "execution_count": 8,
      "outputs": [
        {
          "output_type": "stream",
          "name": "stdout",
          "text": [
            "[ADOLFO HUERTA]\n"
          ]
        }
      ]
    },
    {
      "cell_type": "code",
      "source": [
        "!python -m spacy init fill-config base_config.cfg config.cfg"
      ],
      "metadata": {
        "colab": {
          "base_uri": "https://localhost:8080/"
        },
        "id": "IgNqkDom0wt1",
        "outputId": "13912cc2-4a58-4ef0-f83d-eb7cab674be3"
      },
      "execution_count": 9,
      "outputs": [
        {
          "output_type": "stream",
          "name": "stdout",
          "text": [
            "2022-11-08 21:08:36.209938: E tensorflow/stream_executor/cuda/cuda_driver.cc:271] failed call to cuInit: CUDA_ERROR_NO_DEVICE: no CUDA-capable device is detected\n",
            "Usage: python -m spacy init fill-config \n",
            "           [OPTIONS] BASE_PATH [OUTPUT_FILE]\n",
            "Try 'python -m spacy init fill-config --help' for help.\n",
            "\n",
            "Error: Invalid value for 'BASE_PATH': File 'base_config.cfg' does not exist.\n"
          ]
        }
      ]
    },
    {
      "cell_type": "code",
      "source": [
        "!python -m spacy train config.cfg --output ./output --paths.train ./train.spacy --paths.dev ./train.spacy\n"
      ],
      "metadata": {
        "colab": {
          "base_uri": "https://localhost:8080/"
        },
        "id": "I8-T7l2r1K7M",
        "outputId": "89f0b1c5-c4ee-4225-f538-0301c42e4615"
      },
      "execution_count": 10,
      "outputs": [
        {
          "output_type": "stream",
          "name": "stdout",
          "text": [
            "2022-11-08 21:08:42.221204: E tensorflow/stream_executor/cuda/cuda_driver.cc:271] failed call to cuInit: CUDA_ERROR_NO_DEVICE: no CUDA-capable device is detected\n",
            "\u001b[38;5;2m✔ Created output directory: output\u001b[0m\n",
            "\u001b[38;5;4mℹ Saving to output directory: output\u001b[0m\n",
            "\u001b[38;5;4mℹ Using CPU\u001b[0m\n",
            "\u001b[1m\n",
            "=========================== Initializing pipeline ===========================\u001b[0m\n",
            "[2022-11-08 21:08:43,306] [INFO] Set up nlp object from config\n",
            "INFO:spacy:Set up nlp object from config\n",
            "[2022-11-08 21:08:43,328] [INFO] Pipeline: ['tok2vec', 'ner']\n",
            "INFO:spacy:Pipeline: ['tok2vec', 'ner']\n",
            "[2022-11-08 21:08:43,333] [INFO] Created vocabulary\n",
            "INFO:spacy:Created vocabulary\n",
            "[2022-11-08 21:08:43,335] [INFO] Finished initializing nlp object\n",
            "INFO:spacy:Finished initializing nlp object\n",
            "[2022-11-08 21:08:43,452] [INFO] Initialized pipeline components: ['tok2vec', 'ner']\n",
            "INFO:spacy:Initialized pipeline components: ['tok2vec', 'ner']\n",
            "\u001b[38;5;2m✔ Initialized pipeline\u001b[0m\n",
            "\u001b[1m\n",
            "============================= Training pipeline =============================\u001b[0m\n",
            "\u001b[38;5;4mℹ Pipeline: ['tok2vec', 'ner']\u001b[0m\n",
            "\u001b[38;5;4mℹ Initial learn rate: 0.001\u001b[0m\n",
            "E    #       LOSS TOK2VEC  LOSS NER  ENTS_F  ENTS_P  ENTS_R  SCORE \n",
            "---  ------  ------------  --------  ------  ------  ------  ------\n",
            "  0       0          0.00     26.83    0.00    0.00    0.00    0.00\n",
            "200     200          1.25    452.84  100.00  100.00  100.00    1.00\n",
            "400     400          0.00      0.00  100.00  100.00  100.00    1.00\n",
            "600     600          0.00      0.00  100.00  100.00  100.00    1.00\n",
            "800     800          0.00      0.00  100.00  100.00  100.00    1.00\n",
            "1000    1000          0.00      0.00  100.00  100.00  100.00    1.00\n",
            "1200    1200          0.00      0.00  100.00  100.00  100.00    1.00\n",
            "1400    1400          0.00      0.00  100.00  100.00  100.00    1.00\n",
            "1600    1600          0.00      0.00  100.00  100.00  100.00    1.00\n",
            "1800    1800          0.00      0.00  100.00  100.00  100.00    1.00\n",
            "\u001b[38;5;2m✔ Saved pipeline to output directory\u001b[0m\n",
            "output/model-last\n"
          ]
        }
      ]
    },
    {
      "cell_type": "markdown",
      "source": [
        "- nlp1 es la base de datos de entrenamiento nueva que nos servira para identificar de mejor manera los valores entrenados\n",
        "\n",
        "- nlp es la base de spacy standard"
      ],
      "metadata": {
        "id": "SlVwDnnB1Zvt"
      }
    },
    {
      "cell_type": "code",
      "source": [
        "nlp1 = spacy.load(r\"./output/model-best\") #load the best model"
      ],
      "metadata": {
        "id": "-urn-gNU1PHH"
      },
      "execution_count": 11,
      "outputs": []
    },
    {
      "cell_type": "markdown",
      "source": [
        "Probemos con la base de datos de spacy -->"
      ],
      "metadata": {
        "id": "H1VgFVJv1yGB"
      }
    },
    {
      "cell_type": "code",
      "source": [
        "doc = nlp(\"ADOLFO HUERTA probablemente la siguiente semana sea llevado a presentar ante el Juez\") # input sample text\n",
        "#doc = nlp(\"Cada cierto tiempo se menciona que Markov Colopa es un antiguo miembro de nuestra compaÃ±ia de aceleracion de empresas Sonico, por lo tanto Andres Gomez Farias es un inventor asociado a la firma de tecnologia quizas tambien ADOLFO HUERTA nos pueda ayudar\") # input sample text\n",
        "colors = {'Personas': \"#85C1E9\"}\n",
        "options = {\"ents\": ['PERSON'], \"colors\": colors}\n",
        "spacy.displacy.render(doc, style=\"ent\", jupyter=True, options=options) # display in Jupyter"
      ],
      "metadata": {
        "colab": {
          "base_uri": "https://localhost:8080/",
          "height": 52
        },
        "id": "gmVBskJO1Rgi",
        "outputId": "4965e9f3-421c-4232-f1e1-e610a607bdb4"
      },
      "execution_count": 12,
      "outputs": [
        {
          "output_type": "display_data",
          "data": {
            "text/plain": [
              "<IPython.core.display.HTML object>"
            ],
            "text/html": [
              "<span class=\"tex2jax_ignore\"><div class=\"entities\" style=\"line-height: 2.5; direction: ltr\">ADOLFO HUERTA probablemente la siguiente semana sea llevado a presentar ante el Juez</div></span>"
            ]
          },
          "metadata": {}
        }
      ]
    },
    {
      "cell_type": "markdown",
      "source": [
        "Ahora con la nuestra --->"
      ],
      "metadata": {
        "id": "GkwGn6yx103y"
      }
    },
    {
      "cell_type": "code",
      "source": [
        "doc = nlp1(\"ADOLFO HUERTA probablemente la siguiente semana sea llevado a presentar ante el Juez\") # input sample text\n",
        "#doc = nlp1(\"Cada cierto tiempo se menciona que Markov Colopa es un antiguo miembro de nuestra compaÃ±ia de aceleracion de empresas Sonico, por lo tanto Andres Gomez Farias es un inventor asociado a la firma de tecnologia quizas tambien ADOLFO HUERTA nos pueda ayudar\") # input sample text\n",
        "colors = {'Personas': \"#85C1E9\"}\n",
        "options = {\"ents\": ['PERSON'], \"colors\": colors}\n",
        "spacy.displacy.render(doc, style=\"ent\", jupyter=True, options=options) # display in Jupyter"
      ],
      "metadata": {
        "colab": {
          "base_uri": "https://localhost:8080/",
          "height": 52
        },
        "id": "TQVR0AZA13B6",
        "outputId": "dba48804-3028-4cce-cb81-377023313f15"
      },
      "execution_count": 13,
      "outputs": [
        {
          "output_type": "display_data",
          "data": {
            "text/plain": [
              "<IPython.core.display.HTML object>"
            ],
            "text/html": [
              "<span class=\"tex2jax_ignore\"><div class=\"entities\" style=\"line-height: 2.5; direction: ltr\">\n",
              "<mark class=\"entity\" style=\"background: #aa9cfc; padding: 0.45em 0.6em; margin: 0 0.25em; line-height: 1; border-radius: 0.35em;\">\n",
              "    ADOLFO HUERTA\n",
              "    <span style=\"font-size: 0.8em; font-weight: bold; line-height: 1; border-radius: 0.35em; vertical-align: middle; margin-left: 0.5rem\">PERSON</span>\n",
              "</mark>\n",
              " probablemente la siguiente semana sea llevado a presentar ante el Juez</div></span>"
            ]
          },
          "metadata": {}
        }
      ]
    },
    {
      "cell_type": "markdown",
      "source": [
        "Podemos observar que con nuestro entrenamiento ahora ya se muestra correctamente Adolfo Huerta y se le reconoce como persona."
      ],
      "metadata": {
        "id": "_34Gwocr1_ew"
      }
    }
  ]
}